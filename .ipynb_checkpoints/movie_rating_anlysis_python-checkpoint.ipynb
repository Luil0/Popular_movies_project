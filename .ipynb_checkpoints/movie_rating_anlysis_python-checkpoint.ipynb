{
 "cells": [
  {
   "cell_type": "code",
   "execution_count": 2,
   "id": "36459b38",
   "metadata": {},
   "outputs": [],
   "source": [
    "import pandas as pd \n",
    "import re"
   ]
  },
  {
   "cell_type": "code",
   "execution_count": 3,
   "id": "5debbe71",
   "metadata": {},
   "outputs": [],
   "source": [
    "import numpy as np"
   ]
  },
  {
   "cell_type": "code",
   "execution_count": 4,
   "id": "ca98b5e4",
   "metadata": {},
   "outputs": [],
   "source": [
    "from scipy.stats import pearsonr, chi2_contingency"
   ]
  },
  {
   "cell_type": "code",
   "execution_count": 5,
   "id": "6da9adc5",
   "metadata": {},
   "outputs": [],
   "source": [
    "import matplotlib.pyplot as plt"
   ]
  },
  {
   "cell_type": "code",
   "execution_count": 6,
   "id": "008d1df3",
   "metadata": {},
   "outputs": [],
   "source": [
    "import seaborn as sns"
   ]
  },
  {
   "cell_type": "code",
   "execution_count": 7,
   "id": "64c33d87",
   "metadata": {},
   "outputs": [],
   "source": [
    "# movies csv to movies dataframe with pandas\n",
    "def csv_to_dataframe(csv):\n",
    "    read_csv = pd.read_csv(csv)\n",
    "    df_csv = pd.DataFrame(read_csv)\n",
    "    return df_csv"
   ]
  },
  {
   "cell_type": "code",
   "execution_count": 8,
   "id": "64d8af42",
   "metadata": {},
   "outputs": [
    {
     "name": "stdout",
     "output_type": "stream",
     "text": [
      "9742\n"
     ]
    },
    {
     "data": {
      "text/html": [
       "<div>\n",
       "<style scoped>\n",
       "    .dataframe tbody tr th:only-of-type {\n",
       "        vertical-align: middle;\n",
       "    }\n",
       "\n",
       "    .dataframe tbody tr th {\n",
       "        vertical-align: top;\n",
       "    }\n",
       "\n",
       "    .dataframe thead th {\n",
       "        text-align: right;\n",
       "    }\n",
       "</style>\n",
       "<table border=\"1\" class=\"dataframe\">\n",
       "  <thead>\n",
       "    <tr style=\"text-align: right;\">\n",
       "      <th></th>\n",
       "      <th>userId</th>\n",
       "      <th>movieId</th>\n",
       "      <th>rating</th>\n",
       "      <th>timestamp</th>\n",
       "    </tr>\n",
       "  </thead>\n",
       "  <tbody>\n",
       "    <tr>\n",
       "      <th>0</th>\n",
       "      <td>1</td>\n",
       "      <td>1</td>\n",
       "      <td>4.0</td>\n",
       "      <td>964982703</td>\n",
       "    </tr>\n",
       "    <tr>\n",
       "      <th>1</th>\n",
       "      <td>1</td>\n",
       "      <td>3</td>\n",
       "      <td>4.0</td>\n",
       "      <td>964981247</td>\n",
       "    </tr>\n",
       "    <tr>\n",
       "      <th>2</th>\n",
       "      <td>1</td>\n",
       "      <td>6</td>\n",
       "      <td>4.0</td>\n",
       "      <td>964982224</td>\n",
       "    </tr>\n",
       "    <tr>\n",
       "      <th>3</th>\n",
       "      <td>1</td>\n",
       "      <td>47</td>\n",
       "      <td>5.0</td>\n",
       "      <td>964983815</td>\n",
       "    </tr>\n",
       "    <tr>\n",
       "      <th>4</th>\n",
       "      <td>1</td>\n",
       "      <td>50</td>\n",
       "      <td>5.0</td>\n",
       "      <td>964982931</td>\n",
       "    </tr>\n",
       "  </tbody>\n",
       "</table>\n",
       "</div>"
      ],
      "text/plain": [
       "   userId  movieId  rating  timestamp\n",
       "0       1        1     4.0  964982703\n",
       "1       1        3     4.0  964981247\n",
       "2       1        6     4.0  964982224\n",
       "3       1       47     5.0  964983815\n",
       "4       1       50     5.0  964982931"
      ]
     },
     "execution_count": 8,
     "metadata": {},
     "output_type": "execute_result"
    }
   ],
   "source": [
    "# ratings csv to ratings dataframe\n",
    "movies_df = csv_to_dataframe(\"movies.csv\")\n",
    "ratings_df = csv_to_dataframe(\"ratings.csv\")\n",
    "print(len(movies_df))\n",
    "movies_df.head()\n",
    "ratings_df.head()"
   ]
  },
  {
   "cell_type": "code",
   "execution_count": 9,
   "id": "683395ef",
   "metadata": {},
   "outputs": [
    {
     "name": "stdout",
     "output_type": "stream",
     "text": [
      "100836\n"
     ]
    }
   ],
   "source": [
    "# merging ratings and movies dataframe\n",
    "movie_ratings_df = pd.merge(movies_df, ratings_df, on=\"movieId\")\n",
    "\n",
    "\n",
    "\n",
    "# renaming some columns to read and write it better\n",
    "movie_ratings_df.head()\n",
    "\n",
    "movie_ratings_df.rename(columns={\n",
    "    \"movieId\": \"movie_id\",\n",
    "    \"userId\": \"user_id\"\n",
    "}, inplace=True)\n",
    "\n",
    "#using class to return list or array if we need it.\n",
    "class List_into_array:\n",
    "    def __init__(self, lst):\n",
    "        self.lst = lst\n",
    "        self.array = np.array(lst)\n",
    "\n",
    "# getting years from the titles column and makeing them integers.\n",
    "def year_str_int(title_lst):\n",
    "    years_lst = []\n",
    "    for titles in title_lst:\n",
    "        split_titles = titles.split(\" \")\n",
    "        titles_pop = split_titles.pop()\n",
    "        striped_years = titles_pop.strip(\"()\")\n",
    "        if striped_years.isdigit() and len(striped_years) == 4:\n",
    "            years_lst.append(int(striped_years))\n",
    "        else:\n",
    "            years_lst.append(0)\n",
    "    return years_lst\n",
    "\n",
    "\n",
    "# making our list into an array with List_into_array class        \n",
    "# year_lst_array = List_into_array(years_lst)\n",
    "\n",
    "# this function will get rid of all the years at the end an then just return the titles\n",
    "def titles(titles_lst):\n",
    "    new_lst = []\n",
    "    for movie in titles_lst:\n",
    "        split_movie_str = movie.split(\" \")\n",
    "        if len(split_movie_str) > 1:\n",
    "            split_movie_str.pop()\n",
    "            movie_str_joined = \" \".join(split_movie_str).strip()\n",
    "            new_lst.append(movie_str_joined)\n",
    "        else:\n",
    "            movie_str_joined_not_pop = \" \".join(split_movie_str).strip()\n",
    "            new_lst.append(movie_str_joined_not_pop)\n",
    "    return new_lst\n",
    "\n",
    "\n",
    "\n",
    "\n",
    "# using titles function to get the titles only\n",
    "# using titles_lst to make it int an array\n",
    "\n",
    "# years\n",
    "years_lst = year_str_int(movie_ratings_df[\"title\"])\n",
    "year_array = List_into_array(years_lst)\n",
    "# titles\n",
    "titles_lst = titles(movie_ratings_df[\"title\"])\n",
    "titles_lst_array = List_into_array(titles_lst)\n",
    "\n",
    "print(len(titles_lst))\n",
    "# adding years column and replacing titles column on our dataframe \n",
    "movie_ratings_df[\"title\"] = titles_lst_array.array\n",
    "movie_ratings_df[\"year\"] = year_array.array\n",
    "\n"
   ]
  },
  {
   "cell_type": "code",
   "execution_count": 10,
   "id": "ef776943",
   "metadata": {},
   "outputs": [],
   "source": [
    "# getting rid of columns we dont need \n",
    "\n",
    "# we will get rid of timestamp column it will give us nothing new its \n",
    "movie_ratings_df.drop(\"timestamp\", inplace=True, axis=1)\n"
   ]
  },
  {
   "cell_type": "code",
   "execution_count": 11,
   "id": "3d3dbc85",
   "metadata": {},
   "outputs": [
    {
     "name": "stdout",
     "output_type": "stream",
     "text": [
      "There is a total of 100836 rows in this dataset and 9446 unique movie titles rated by 610 users from a scale of 1-5.\n"
     ]
    }
   ],
   "source": [
    "\n",
    "# looking at the unique numbers of each\n",
    "titles_unique = len(movie_ratings_df[\"title\"].unique())\n",
    "titles_total = len(movie_ratings_df[\"title\"])\n",
    "user_id_unique = len(movie_ratings_df[\"user_id\"].unique())\n",
    "\n",
    "print(f\"There is a total of {titles_total} rows in this dataset and {titles_unique} unique movie titles rated by {user_id_unique} users from a scale of 1-5.\")\n",
    "\n"
   ]
  },
  {
   "cell_type": "code",
   "execution_count": 12,
   "id": "f312c195",
   "metadata": {},
   "outputs": [
    {
     "data": {
      "image/png": "[encoded data removed]",
      "text/plain": [
       "<Figure size 432x288 with 1 Axes>"
      ]
     },
     "metadata": {
      "needs_background": "light"
     },
     "output_type": "display_data"
    },
    {
     "name": "stdout",
     "output_type": "stream",
     "text": [
      "The most common rating was 4.0 in our movie dataset.\n",
      "Each user rated an avearge of 165.3 titles.\n"
     ]
    }
   ],
   "source": [
    "\n",
    "movie_ratings_df.describe()\n",
    "\n",
    "# count of all users and their rating\n",
    "movie_ratings_by_title = movie_ratings_df[\"rating\"].value_counts().sort_values()\n",
    "\n",
    "movie_ratings_by_title.plot.bar(color=[\"#4DBEEE\", \"#0072BD\"], ylabel=\"Number of Users\", xlabel=\"Ratings\", title=\"Count of user rating\")\n",
    "plt.show()\n",
    "plt.close()\n",
    "\n",
    "print(\"The most common rating was 4.0 in our movie dataset.\")\n",
    "\n",
    "# what is the average amount of titles that each user rated\n",
    "\n",
    "user_mean_ratings = movie_ratings_df[\"user_id\"].value_counts()\n",
    "\n",
    "print(f\"Each user rated an avearge of {round(user_mean_ratings.mean(), 2)} titles.\")\n"
   ]
  },
  {
   "cell_type": "code",
   "execution_count": 68,
   "id": "74f8fe7a",
   "metadata": {},
   "outputs": [
    {
     "data": {
      "text/plain": [
       "Shawshank Redemption, The              153\n",
       "Pulp Fiction                           123\n",
       "Forrest Gump                           116\n",
       "Matrix, The                            109\n",
       "Star Wars: Episode IV - A New Hope     104\n",
       "                                      ... \n",
       "Kiss Me Deadly                           1\n",
       "All That Heaven Allows                   1\n",
       "Dr. Goldfoot and the Bikini Machine      1\n",
       "Cannonball Run, The                      1\n",
       "Won't You Be My Neighbor?                1\n",
       "Name: title, Length: 2922, dtype: int64"
      ]
     },
     "execution_count": 68,
     "metadata": {},
     "output_type": "execute_result"
    }
   ],
   "source": [
    "new_df = movie_ratings_df[\"rating\"] == 5\n",
    "# new_df.reset_index(inplace=True)\n",
    "\n",
    "new_df\n",
    "count_of_titles = movie_ratings_df[\"rating\"] == 5\n",
    "\n",
    "movie_ratings_df.loc[count_of_titles][\"title\"].value_counts()"
   ]
  },
  {
   "cell_type": "code",
   "execution_count": null,
   "id": "875ca51a",
   "metadata": {},
   "outputs": [],
   "source": []
  },
  {
   "cell_type": "code",
   "execution_count": null,
   "id": "9e1071ff",
   "metadata": {},
   "outputs": [],
   "source": []
  },
  {
   "cell_type": "code",
   "execution_count": null,
   "id": "cbfd556b",
   "metadata": {},
   "outputs": [],
   "source": []
  },
  {
   "cell_type": "code",
   "execution_count": null,
   "id": "cc83f1f4",
   "metadata": {},
   "outputs": [],
   "source": []
  },
  {
   "cell_type": "code",
   "execution_count": null,
   "id": "b91982d5",
   "metadata": {},
   "outputs": [],
   "source": []
  }
 ],
 "metadata": {
  "kernelspec": {
   "display_name": "Python 3 (ipykernel)",
   "language": "python",
   "name": "python3"
  },
  "language_info": {
   "codemirror_mode": {
    "name": "ipython",
    "version": 3
   },
   "file_extension": ".py",
   "mimetype": "text/x-python",
   "name": "python",
   "nbconvert_exporter": "python",
   "pygments_lexer": "ipython3",
   "version": "3.9.7"
  }
 },
 "nbformat": 4,
 "nbformat_minor": 5
}
