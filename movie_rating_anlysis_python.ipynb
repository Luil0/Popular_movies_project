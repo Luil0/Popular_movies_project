{
 "cells": [
  {
   "cell_type": "code",
   "execution_count": 1,
   "id": "36459b38",
   "metadata": {},
   "outputs": [],
   "source": [
    "import pandas as pd \n",
    "import re"
   ]
  },
  {
   "cell_type": "code",
   "execution_count": 2,
   "id": "5debbe71",
   "metadata": {},
   "outputs": [],
   "source": [
    "import numpy as np"
   ]
  },
  {
   "cell_type": "code",
   "execution_count": 3,
   "id": "ca98b5e4",
   "metadata": {},
   "outputs": [],
   "source": [
    "from scipy.stats import pearsonr, chi2_contingency"
   ]
  },
  {
   "cell_type": "code",
   "execution_count": 4,
   "id": "6da9adc5",
   "metadata": {},
   "outputs": [],
   "source": [
    "import matplotlib.pyplot as plt"
   ]
  },
  {
   "cell_type": "code",
   "execution_count": 5,
   "id": "008d1df3",
   "metadata": {},
   "outputs": [],
   "source": [
    "import seaborn as sns"
   ]
  },
  {
   "cell_type": "code",
   "execution_count": 6,
   "id": "64c33d87",
   "metadata": {},
   "outputs": [],
   "source": [
    "# movies csv to movies dataframe with pandas\n",
    "def csv_to_dataframe(csv):\n",
    "    read_csv = pd.read_csv(csv)\n",
    "    df_csv = pd.DataFrame(read_csv)\n",
    "    return df_csv"
   ]
  },
  {
   "cell_type": "code",
   "execution_count": 7,
   "id": "64d8af42",
   "metadata": {},
   "outputs": [
    {
     "data": {
      "text/html": [
       "<div>\n",
       "<style scoped>\n",
       "    .dataframe tbody tr th:only-of-type {\n",
       "        vertical-align: middle;\n",
       "    }\n",
       "\n",
       "    .dataframe tbody tr th {\n",
       "        vertical-align: top;\n",
       "    }\n",
       "\n",
       "    .dataframe thead th {\n",
       "        text-align: right;\n",
       "    }\n",
       "</style>\n",
       "<table border=\"1\" class=\"dataframe\">\n",
       "  <thead>\n",
       "    <tr style=\"text-align: right;\">\n",
       "      <th></th>\n",
       "      <th>movieId</th>\n",
       "      <th>title</th>\n",
       "      <th>genres</th>\n",
       "    </tr>\n",
       "  </thead>\n",
       "  <tbody>\n",
       "    <tr>\n",
       "      <th>0</th>\n",
       "      <td>1</td>\n",
       "      <td>Toy Story (1995)</td>\n",
       "      <td>Adventure|Animation|Children|Comedy|Fantasy</td>\n",
       "    </tr>\n",
       "    <tr>\n",
       "      <th>1</th>\n",
       "      <td>2</td>\n",
       "      <td>Jumanji (1995)</td>\n",
       "      <td>Adventure|Children|Fantasy</td>\n",
       "    </tr>\n",
       "    <tr>\n",
       "      <th>2</th>\n",
       "      <td>3</td>\n",
       "      <td>Grumpier Old Men (1995)</td>\n",
       "      <td>Comedy|Romance</td>\n",
       "    </tr>\n",
       "    <tr>\n",
       "      <th>3</th>\n",
       "      <td>4</td>\n",
       "      <td>Waiting to Exhale (1995)</td>\n",
       "      <td>Comedy|Drama|Romance</td>\n",
       "    </tr>\n",
       "    <tr>\n",
       "      <th>4</th>\n",
       "      <td>5</td>\n",
       "      <td>Father of the Bride Part II (1995)</td>\n",
       "      <td>Comedy</td>\n",
       "    </tr>\n",
       "  </tbody>\n",
       "</table>\n",
       "</div>"
      ],
      "text/plain": [
       "   movieId                               title  \\\n",
       "0        1                    Toy Story (1995)   \n",
       "1        2                      Jumanji (1995)   \n",
       "2        3             Grumpier Old Men (1995)   \n",
       "3        4            Waiting to Exhale (1995)   \n",
       "4        5  Father of the Bride Part II (1995)   \n",
       "\n",
       "                                        genres  \n",
       "0  Adventure|Animation|Children|Comedy|Fantasy  \n",
       "1                   Adventure|Children|Fantasy  \n",
       "2                               Comedy|Romance  \n",
       "3                         Comedy|Drama|Romance  \n",
       "4                                       Comedy  "
      ]
     },
     "execution_count": 7,
     "metadata": {},
     "output_type": "execute_result"
    }
   ],
   "source": [
    "# ratings csv to ratings dataframe\n",
    "movies_df = csv_to_dataframe(\"movies.csv\")\n",
    "ratings_df = csv_to_dataframe(\"ratings.csv\")\n",
    "ratings_df.head()\n",
    "movies_df.head()\n"
   ]
  },
  {
   "cell_type": "code",
   "execution_count": 22,
   "id": "683395ef",
   "metadata": {},
   "outputs": [
    {
     "name": "stdout",
     "output_type": "stream",
     "text": [
      "100836\n"
     ]
    },
    {
     "data": {
      "text/html": [
       "<div>\n",
       "<style scoped>\n",
       "    .dataframe tbody tr th:only-of-type {\n",
       "        vertical-align: middle;\n",
       "    }\n",
       "\n",
       "    .dataframe tbody tr th {\n",
       "        vertical-align: top;\n",
       "    }\n",
       "\n",
       "    .dataframe thead th {\n",
       "        text-align: right;\n",
       "    }\n",
       "</style>\n",
       "<table border=\"1\" class=\"dataframe\">\n",
       "  <thead>\n",
       "    <tr style=\"text-align: right;\">\n",
       "      <th></th>\n",
       "      <th>movie_id</th>\n",
       "      <th>title</th>\n",
       "      <th>genres</th>\n",
       "      <th>user_id</th>\n",
       "      <th>rating</th>\n",
       "      <th>timestamp</th>\n",
       "      <th>year</th>\n",
       "    </tr>\n",
       "  </thead>\n",
       "  <tbody>\n",
       "    <tr>\n",
       "      <th>0</th>\n",
       "      <td>1</td>\n",
       "      <td>Toy Story</td>\n",
       "      <td>Adventure|Animation|Children|Comedy|Fantasy</td>\n",
       "      <td>1</td>\n",
       "      <td>4.0</td>\n",
       "      <td>964982703</td>\n",
       "      <td>1995</td>\n",
       "    </tr>\n",
       "    <tr>\n",
       "      <th>1</th>\n",
       "      <td>1</td>\n",
       "      <td>Toy Story</td>\n",
       "      <td>Adventure|Animation|Children|Comedy|Fantasy</td>\n",
       "      <td>5</td>\n",
       "      <td>4.0</td>\n",
       "      <td>847434962</td>\n",
       "      <td>1995</td>\n",
       "    </tr>\n",
       "    <tr>\n",
       "      <th>2</th>\n",
       "      <td>1</td>\n",
       "      <td>Toy Story</td>\n",
       "      <td>Adventure|Animation|Children|Comedy|Fantasy</td>\n",
       "      <td>7</td>\n",
       "      <td>4.5</td>\n",
       "      <td>1106635946</td>\n",
       "      <td>1995</td>\n",
       "    </tr>\n",
       "    <tr>\n",
       "      <th>3</th>\n",
       "      <td>1</td>\n",
       "      <td>Toy Story</td>\n",
       "      <td>Adventure|Animation|Children|Comedy|Fantasy</td>\n",
       "      <td>15</td>\n",
       "      <td>2.5</td>\n",
       "      <td>1510577970</td>\n",
       "      <td>1995</td>\n",
       "    </tr>\n",
       "    <tr>\n",
       "      <th>4</th>\n",
       "      <td>1</td>\n",
       "      <td>Toy Story</td>\n",
       "      <td>Adventure|Animation|Children|Comedy|Fantasy</td>\n",
       "      <td>17</td>\n",
       "      <td>4.5</td>\n",
       "      <td>1305696483</td>\n",
       "      <td>1995</td>\n",
       "    </tr>\n",
       "  </tbody>\n",
       "</table>\n",
       "</div>"
      ],
      "text/plain": [
       "   movie_id      title                                       genres  user_id  \\\n",
       "0         1  Toy Story  Adventure|Animation|Children|Comedy|Fantasy        1   \n",
       "1         1  Toy Story  Adventure|Animation|Children|Comedy|Fantasy        5   \n",
       "2         1  Toy Story  Adventure|Animation|Children|Comedy|Fantasy        7   \n",
       "3         1  Toy Story  Adventure|Animation|Children|Comedy|Fantasy       15   \n",
       "4         1  Toy Story  Adventure|Animation|Children|Comedy|Fantasy       17   \n",
       "\n",
       "   rating   timestamp  year  \n",
       "0     4.0   964982703  1995  \n",
       "1     4.0   847434962  1995  \n",
       "2     4.5  1106635946  1995  \n",
       "3     2.5  1510577970  1995  \n",
       "4     4.5  1305696483  1995  "
      ]
     },
     "execution_count": 22,
     "metadata": {},
     "output_type": "execute_result"
    }
   ],
   "source": [
    "# merging ratings and movies dataframe\n",
    "movie_ratings_merge = pd.merge(movies_df, ratings_df, on=\"movieId\")\n",
    "\n",
    "\n",
    "\n",
    "# renaming some columns to read and write it better\n",
    "movie_ratings_merge.head()\n",
    "\n",
    "movie_ratings_merge.rename(columns={\n",
    "    \"movieId\": \"movie_id\",\n",
    "    \"userId\": \"user_id\"\n",
    "}, inplace=True)\n",
    "\n",
    "movie_ratings_merge.head()\n",
    "movie_ratings_merge[\"title\"].unique().size\n",
    "\n",
    "#using class to return list or array if we need it.\n",
    "class List_into_array:\n",
    "    def __init__(self, lst):\n",
    "        self.lst = lst\n",
    "        self.array = np.array(lst)\n",
    "\n",
    "# getting years from the titles column and makeing them integers.\n",
    "def year_str_int(title_lst):\n",
    "    years_lst = []\n",
    "    for titles in title_lst:\n",
    "        split_titles = titles.split(\" \")\n",
    "        titles_pop = split_titles.pop()\n",
    "        striped_years = titles_pop.strip(\"()\")\n",
    "        if striped_years.isdigit() and len(striped_years) == 4:\n",
    "            years_lst.append(int(striped_years))\n",
    "        else:\n",
    "            years_lst.append(0)\n",
    "    return years_lst\n",
    "\n",
    "\n",
    "# making our list into an array with List_into_array class        \n",
    "# year_lst_array = List_into_array(years_lst)\n",
    "\n",
    "# this function will get rid of all the years at the end an then just return the titles\n",
    "def titles(titles_lst):\n",
    "    new_lst = []\n",
    "    for movie in titles_lst:\n",
    "        split_movie_str = movie.split(\" \")\n",
    "        if len(split_movie_str) > 1:\n",
    "            split_movie_str.pop()\n",
    "            movie_str_joined = \" \".join(split_movie_str).strip()\n",
    "            new_lst.append(movie_str_joined)\n",
    "        else:\n",
    "            movie_str_joined_not_pop = \" \".join(split_movie_str).strip()\n",
    "            new_lst.append(movie_str_joined_not_pop)\n",
    "    return new_lst\n",
    "\n",
    "\n",
    "\n",
    "\n",
    "# using titles function to get the titles only\n",
    "# using titles_lst to make it int an array\n",
    "\n",
    "# years\n",
    "years_lst = year_str_int(movie_ratings_merge[\"title\"])\n",
    "year_array = List_into_array(years_lst)\n",
    "# titles\n",
    "titles_lst = titles(movie_ratings_merge[\"title\"])\n",
    "titles_lst_array = List_into_array(titles_lst)\n",
    "\n",
    "print(len(titles_lst))\n",
    "# adding years column and replacing titles column on our dataframe \n",
    "movie_ratings_merge[\"title\"] = titles_lst_array.array\n",
    "movie_ratings_merge[\"year\"] = year_array.array\n",
    "movie_ratings_merge.head()\n"
   ]
  },
  {
   "cell_type": "code",
   "execution_count": 23,
   "id": "ef776943",
   "metadata": {},
   "outputs": [],
   "source": [
    "# getting rid of columns we dont need \n",
    "\n",
    "# we will get rid of timestamp column it will give us nothing new its \n",
    "movie_ratings_merge.drop(\"timestamp\", inplace=True, axis=1)\n"
   ]
  },
  {
   "cell_type": "code",
   "execution_count": 24,
   "id": "3d3dbc85",
   "metadata": {},
   "outputs": [
    {
     "name": "stdout",
     "output_type": "stream",
     "text": [
      "There is a total of 100836 rows in this dataset. With 9446 unique movie titles rated by 610 users from a scale of 1-10.\n"
     ]
    }
   ],
   "source": [
    "\n",
    "# looking at the unique numbers of each\n",
    "titles_unique = len(movie_ratings_merge[\"title\"].unique())\n",
    "titles_total = len(movie_ratings_merge[\"title\"])\n",
    "user_id_unique = len(movie_ratings_merge[\"user_id\"].unique())\n",
    "\n",
    "print(f\"There is a total of {titles_total} rows in this dataset. With {titles_unique} unique movie titles rated by {user_id_unique} users from a scale of 1-10.\")\n",
    "\n",
    "\n",
    "\n",
    "\n",
    "\n"
   ]
  },
  {
   "cell_type": "code",
   "execution_count": null,
   "id": "f312c195",
   "metadata": {},
   "outputs": [],
   "source": []
  },
  {
   "cell_type": "code",
   "execution_count": null,
   "id": "74f8fe7a",
   "metadata": {},
   "outputs": [],
   "source": []
  },
  {
   "cell_type": "code",
   "execution_count": null,
   "id": "875ca51a",
   "metadata": {},
   "outputs": [],
   "source": []
  },
  {
   "cell_type": "code",
   "execution_count": null,
   "id": "9e1071ff",
   "metadata": {},
   "outputs": [],
   "source": []
  },
  {
   "cell_type": "code",
   "execution_count": null,
   "id": "cbfd556b",
   "metadata": {},
   "outputs": [],
   "source": []
  }
 ],
 "metadata": {
  "kernelspec": {
   "display_name": "Python 3 (ipykernel)",
   "language": "python",
   "name": "python3"
  },
  "language_info": {
   "codemirror_mode": {
    "name": "ipython",
    "version": 3
   },
   "file_extension": ".py",
   "mimetype": "text/x-python",
   "name": "python",
   "nbconvert_exporter": "python",
   "pygments_lexer": "ipython3",
   "version": "3.9.7"
  }
 },
 "nbformat": 4,
 "nbformat_minor": 5
}
